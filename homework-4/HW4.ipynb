{
 "cells": [
  {
   "cell_type": "code",
   "execution_count": 37,
   "id": "e9b1cd0f",
   "metadata": {},
   "outputs": [],
   "source": [
    "import numpy as np\n",
    "import pandas as pd\n",
    "import string\n",
    "import NaiveBayes\n",
    "from collections import Counter"
   ]
  },
  {
   "cell_type": "markdown",
   "id": "97eac1f5",
   "metadata": {},
   "source": [
    "***\n",
    "## Problem 3.1\n"
   ]
  },
  {
   "cell_type": "code",
   "execution_count": 38,
   "id": "97f8374c",
   "metadata": {},
   "outputs": [],
   "source": [
    "def getCharacters(files=[]):\n",
    "    data = []\n",
    "    chars = list(string.ascii_lowercase)\n",
    "    chars.append(\" \")\n",
    "    for i in range(0,len(files)):\n",
    "        clist =[]\n",
    "        with open('data/'+files[i]+'.txt', 'r') as file:\n",
    "            file_contents = file.read()\n",
    "            clist = list(file_contents)\n",
    "        data.append(dict())\n",
    "        data[i]['char'] = [char for char in clist if char in chars]\n",
    "        data[i]['numchars'] = len(data[i]['char'])\n",
    "        data[i]['files'] = files[i][0]\n",
    "    return data"
   ]
  },
  {
   "cell_type": "code",
   "execution_count": 39,
   "id": "e0cb338f",
   "metadata": {},
   "outputs": [],
   "source": [
    "trainfile_list = [f\"e{i}\" for i in range(10)] + [f\"s{i}\" for i in range(10)] + [f\"j{i}\" for i in range(10)]\n",
    "train_data = getCharacters(trainfile_list)"
   ]
  },
  {
   "cell_type": "code",
   "execution_count": 40,
   "id": "c6681eb3",
   "metadata": {},
   "outputs": [],
   "source": [
    "characters = list(string.ascii_lowercase)\n",
    "characters.extend(\" \")\n",
    "languages = ['e','s','j']"
   ]
  },
  {
   "cell_type": "code",
   "execution_count": 41,
   "id": "78a6129c",
   "metadata": {},
   "outputs": [],
   "source": [
    "model = NaiveBayes.NaiveBayesClassifier()\n",
    "model.train(train_data, characters, languages, alpha=.5, lang_length=3, letter_length=27)"
   ]
  },
  {
   "cell_type": "code",
   "execution_count": 42,
   "id": "8252b65d",
   "metadata": {},
   "outputs": [
    {
     "name": "stdout",
     "output_type": "stream",
     "text": [
      "p_hat(y=language): {'e': 0.3333333333333333, 's': 0.3333333333333333, 'j': 0.3333333333333333}\n"
     ]
    }
   ],
   "source": [
    "print(\"p_hat(y=language):\", model.get_prior())"
   ]
  },
  {
   "cell_type": "markdown",
   "id": "04149f12",
   "metadata": {},
   "source": [
    "***\n",
    "## Problem 3.2"
   ]
  },
  {
   "cell_type": "code",
   "execution_count": 43,
   "id": "45430ba7",
   "metadata": {},
   "outputs": [
    {
     "name": "stdout",
     "output_type": "stream",
     "text": [
      "θ_e:\n"
     ]
    },
    {
     "data": {
      "text/plain": [
       "{'a': 0.0601685114819098,\n",
       " 'b': 0.011134974392863043,\n",
       " 'c': 0.021509995043779945,\n",
       " 'd': 0.021972575582355856,\n",
       " 'e': 0.1053692383941847,\n",
       " 'f': 0.018932760614571286,\n",
       " 'g': 0.017478936064761277,\n",
       " 'h': 0.047216256401784236,\n",
       " 'i': 0.055410540227986124,\n",
       " 'j': 0.001420783082768875,\n",
       " 'k': 0.0037336857756484387,\n",
       " 'l': 0.028977366595076822,\n",
       " 'm': 0.020518751032545846,\n",
       " 'n': 0.057921691723112505,\n",
       " 'o': 0.06446390219725756,\n",
       " 'p': 0.01675202378985627,\n",
       " 'q': 0.0005617049396993227,\n",
       " 'r': 0.053824549810011564,\n",
       " 's': 0.06618205848339666,\n",
       " 't': 0.08012555757475633,\n",
       " 'u': 0.026664463902197257,\n",
       " 'v': 0.009284652238559392,\n",
       " 'w': 0.015496448042293078,\n",
       " 'x': 0.001156451346439782,\n",
       " 'y': 0.013844374690236246,\n",
       " 'z': 0.0006277878737815959,\n",
       " ' ': 0.1792499586981662}"
      ]
     },
     "execution_count": 43,
     "metadata": {},
     "output_type": "execute_result"
    }
   ],
   "source": [
    "print(\"θ_e:\")\n",
    "model.get_conditional()['e']"
   ]
  },
  {
   "cell_type": "markdown",
   "id": "9cc6d438",
   "metadata": {},
   "source": [
    "***\n",
    "## Problem 3.3\n"
   ]
  },
  {
   "cell_type": "code",
   "execution_count": 44,
   "id": "59eaefcc",
   "metadata": {},
   "outputs": [
    {
     "name": "stdout",
     "output_type": "stream",
     "text": [
      "θ_j:\n"
     ]
    },
    {
     "data": {
      "text/plain": [
       "{'a': 0.1317656102589189,\n",
       " 'b': 0.010866906600510151,\n",
       " 'c': 0.005485866033054963,\n",
       " 'd': 0.01722631818022992,\n",
       " 'e': 0.06020475907613823,\n",
       " 'f': 0.003878542227191726,\n",
       " 'g': 0.014011670568503443,\n",
       " 'h': 0.03176211607673224,\n",
       " 'i': 0.09703343932352633,\n",
       " 'j': 0.0023411020650616725,\n",
       " 'k': 0.05740941332681086,\n",
       " 'l': 0.001432614696530277,\n",
       " 'm': 0.03979873510604843,\n",
       " 'n': 0.05671057688947902,\n",
       " 'o': 0.09116321324993885,\n",
       " 'p': 0.0008735455466648031,\n",
       " 'q': 0.00010482546559977637,\n",
       " 'r': 0.04280373178657535,\n",
       " 's': 0.0421747789929767,\n",
       " 't': 0.056990111464411755,\n",
       " 'u': 0.07061742199238269,\n",
       " 'v': 0.0002445927530661449,\n",
       " 'w': 0.01974212935462455,\n",
       " 'x': 3.4941821866592126e-05,\n",
       " 'y': 0.01415143785596981,\n",
       " 'z': 0.00772214263251686,\n",
       " ' ': 0.12344945665466997}"
      ]
     },
     "execution_count": 44,
     "metadata": {},
     "output_type": "execute_result"
    }
   ],
   "source": [
    "print(\"θ_j:\")\n",
    "model.get_conditional()['j']"
   ]
  },
  {
   "cell_type": "code",
   "execution_count": 45,
   "id": "6e2d7ce2",
   "metadata": {},
   "outputs": [
    {
     "name": "stdout",
     "output_type": "stream",
     "text": [
      "θ_s:\n"
     ]
    },
    {
     "data": {
      "text/plain": [
       "{'a': 0.10456045141993771,\n",
       " 'b': 0.008232863618143134,\n",
       " 'c': 0.03752582405722919,\n",
       " 'd': 0.039745922111559924,\n",
       " 'e': 0.1138108599796491,\n",
       " 'f': 0.00860287996053159,\n",
       " 'g': 0.0071844839813758445,\n",
       " 'h': 0.0045327001942585795,\n",
       " 'i': 0.049859702136844375,\n",
       " 'j': 0.006629459467793161,\n",
       " 'k': 0.0002775122567913416,\n",
       " 'l': 0.052943171656748174,\n",
       " 'm': 0.02580863988159477,\n",
       " 'n': 0.054176559464709693,\n",
       " 'o': 0.07249236841293824,\n",
       " 'p': 0.02426690512164287,\n",
       " 'q': 0.007677839104560451,\n",
       " 'r': 0.05929511886774999,\n",
       " 's': 0.06577040485954797,\n",
       " 't': 0.03561407295488884,\n",
       " 'u': 0.03370232185254849,\n",
       " 'v': 0.00588942678301625,\n",
       " 'w': 9.250408559711388e-05,\n",
       " 'x': 0.0024976103111220747,\n",
       " 'y': 0.007862847275754679,\n",
       " 'z': 0.0026826184823163022,\n",
       " ' ': 0.16826493170115014}"
      ]
     },
     "execution_count": 45,
     "metadata": {},
     "output_type": "execute_result"
    }
   ],
   "source": [
    "print(\"θ_s:\")\n",
    "model.get_conditional()['s']"
   ]
  },
  {
   "cell_type": "markdown",
   "id": "343a876c",
   "metadata": {},
   "source": [
    "***\n",
    "## Problem 3.4\n"
   ]
  },
  {
   "cell_type": "code",
   "execution_count": 46,
   "id": "a405fe65",
   "metadata": {},
   "outputs": [],
   "source": [
    "def get_CharactersCount(file):\n",
    "    chars = list(string.ascii_lowercase)\n",
    "    chars.append(\" \")\n",
    "    char_count = dict()\n",
    "    char_list =[]\n",
    "    \n",
    "    with open('data/'+file+'.txt', 'r') as file:\n",
    "        file_contents = file.read()\n",
    "        char_list = list(file_contents)\n",
    "    num_chars = Counter(char_list)\n",
    "    for char in chars:\n",
    "        char_count[char] = num_chars[char]\n",
    "    \n",
    "    return char_count"
   ]
  },
  {
   "cell_type": "code",
   "execution_count": 47,
   "id": "5fbe0bfb",
   "metadata": {},
   "outputs": [
    {
     "data": {
      "text/plain": [
       "{'a': 164,\n",
       " 'b': 32,\n",
       " 'c': 53,\n",
       " 'd': 57,\n",
       " 'e': 311,\n",
       " 'f': 55,\n",
       " 'g': 51,\n",
       " 'h': 140,\n",
       " 'i': 140,\n",
       " 'j': 3,\n",
       " 'k': 6,\n",
       " 'l': 85,\n",
       " 'm': 64,\n",
       " 'n': 139,\n",
       " 'o': 182,\n",
       " 'p': 53,\n",
       " 'q': 3,\n",
       " 'r': 141,\n",
       " 's': 186,\n",
       " 't': 225,\n",
       " 'u': 65,\n",
       " 'v': 31,\n",
       " 'w': 47,\n",
       " 'x': 4,\n",
       " 'y': 38,\n",
       " 'z': 2,\n",
       " ' ': 498}"
      ]
     },
     "execution_count": 47,
     "metadata": {},
     "output_type": "execute_result"
    }
   ],
   "source": [
    "e10_CharactersCount = get_CharactersCount('e10')\n",
    "e10_CharactersCount"
   ]
  },
  {
   "cell_type": "markdown",
   "id": "09e7c1f0",
   "metadata": {},
   "source": [
    "***\n",
    "## Problem 3.5\n"
   ]
  },
  {
   "cell_type": "code",
   "execution_count": 48,
   "id": "d5db2d92",
   "metadata": {},
   "outputs": [
    {
     "name": "stdout",
     "output_type": "stream",
     "text": [
      "Predicted conditional probabilities of x with log base 10:\n"
     ]
    },
    {
     "data": {
      "text/plain": [
       "{'e': -3405.678891486211, 's': -3677.2938684322726, 'j': -3809.3849846259345}"
      ]
     },
     "execution_count": 48,
     "metadata": {},
     "output_type": "execute_result"
    }
   ],
   "source": [
    "print(\"Predicted conditional probabilities of x with log base 10:\")\n",
    "model.predict(e10_CharactersCount)\n",
    "model.get_log_conditional()\n"
   ]
  },
  {
   "cell_type": "code",
   "execution_count": 49,
   "id": "4cf5261c",
   "metadata": {},
   "outputs": [
    {
     "name": "stdout",
     "output_type": "stream",
     "text": [
      "Predicted conditional probabilities of x with log base e:\n"
     ]
    },
    {
     "data": {
      "text/plain": [
       "{'e': -7841.865447060635, 's': -8467.282044010557, 'j': -8771.433079075032}"
      ]
     },
     "execution_count": 49,
     "metadata": {},
     "output_type": "execute_result"
    }
   ],
   "source": [
    "print(\"Predicted conditional probabilities of x with log base e:\")\n",
    "model.get_log_conditionale()"
   ]
  },
  {
   "cell_type": "markdown",
   "id": "50caa3f8",
   "metadata": {},
   "source": [
    "***\n",
    "## Problem 3.6\n"
   ]
  },
  {
   "cell_type": "code",
   "execution_count": 51,
   "id": "e8fa3f88",
   "metadata": {},
   "outputs": [
    {
     "name": "stdout",
     "output_type": "stream",
     "text": [
      "Predicted posterior probabilites of x with base 10:\n",
      "{'e': -0.4771212547198047, 's': -272.0920982007815, 'j': -404.18321439444344}\n",
      "e~=1, s=10^(-272),j=10^(-404)\n"
     ]
    }
   ],
   "source": [
    "#in form of log-base10\n",
    "print(\"Predicted posterior probabilites of x with base 10:\")\n",
    "print(model.get_log_posterior())\n",
    "#e is 10^-0.477 ~= 1 and so forth\n",
    "print('e~=1, s=10^(-272),j=10^(-404)')"
   ]
  },
  {
   "cell_type": "code",
   "execution_count": 52,
   "id": "b6bcbfc1",
   "metadata": {},
   "outputs": [
    {
     "name": "stdout",
     "output_type": "stream",
     "text": [
      "Predicted posterior probabilites of x with base e:\n"
     ]
    },
    {
     "data": {
      "text/plain": [
       "{'e': -1.0986122886679368, 's': -626.5152092385897, 'j': -930.6662443030646}"
      ]
     },
     "execution_count": 52,
     "metadata": {},
     "output_type": "execute_result"
    }
   ],
   "source": [
    "print(\"Predicted posterior probabilites of x with base e:\")\n",
    "model.get_log_posteriore()"
   ]
  },
  {
   "cell_type": "code",
   "execution_count": 53,
   "id": "f0cbc4e3",
   "metadata": {},
   "outputs": [
    {
     "name": "stdout",
     "output_type": "stream",
     "text": [
      "Predicted class label of x: e\n"
     ]
    }
   ],
   "source": [
    "print('Predicted class label of x:', model.predict(e10_CharactersCount))"
   ]
  },
  {
   "cell_type": "markdown",
   "id": "0278db5a",
   "metadata": {},
   "source": [
    "***\n",
    "## Problem 3.7\n"
   ]
  },
  {
   "cell_type": "code",
   "execution_count": 54,
   "id": "9c9dcbe7",
   "metadata": {},
   "outputs": [
    {
     "name": "stdout",
     "output_type": "stream",
     "text": [
      "Prediction for e10: e\n",
      "Prediction for e11: e\n",
      "Prediction for e12: e\n",
      "Prediction for e13: e\n",
      "Prediction for e14: e\n",
      "Prediction for e15: e\n",
      "Prediction for e16: e\n",
      "Prediction for e17: e\n",
      "Prediction for e18: e\n",
      "Prediction for e19: e\n",
      "Prediction for s10: s\n",
      "Prediction for s11: s\n",
      "Prediction for s12: s\n",
      "Prediction for s13: s\n",
      "Prediction for s14: s\n",
      "Prediction for s15: s\n",
      "Prediction for s16: s\n",
      "Prediction for s17: s\n",
      "Prediction for s18: s\n",
      "Prediction for s19: s\n",
      "Prediction for j10: j\n",
      "Prediction for j11: j\n",
      "Prediction for j12: j\n",
      "Prediction for j13: j\n",
      "Prediction for j14: j\n",
      "Prediction for j15: j\n",
      "Prediction for j16: j\n",
      "Prediction for j17: j\n",
      "Prediction for j18: j\n",
      "Prediction for j19: j\n"
     ]
    }
   ],
   "source": [
    "testfile_list = [f\"e{i}\" for i in range(10,20)] + [f\"s{i}\" for i in range(10,20)] + [f\"j{i}\" for i in range(10,20)]\n",
    "for file in testfile_list:\n",
    "    CharactersCount = get_CharactersCount(file)\n",
    "    print(\"Prediction for \", file,\": \", model.predict(CharactersCount),sep=\"\")\n",
    "    "
   ]
  },
  {
   "cell_type": "markdown",
   "id": "2f6e4338",
   "metadata": {},
   "source": [
    "***\n",
    "## Problem 3.8"
   ]
  },
  {
   "cell_type": "code",
   "execution_count": 55,
   "id": "8cffdde0",
   "metadata": {},
   "outputs": [
    {
     "name": "stdout",
     "output_type": "stream",
     "text": [
      "Match!\n"
     ]
    }
   ],
   "source": [
    "j_shuffled_CharactersCount = get_CharactersCount('j0_shuffled')\n",
    "j_CharactersCount = get_CharactersCount('j0')\n",
    "flag = False\n",
    "for char in list(j_CharactersCount.keys()):\n",
    "    if j_shuffled_CharactersCount[char] != j_CharactersCount[char]:\n",
    "        print(\"ERROR: Don't match.\")\n",
    "        flag = True\n",
    "if ~flag:\n",
    "    print(\"Match!\")"
   ]
  },
  {
   "cell_type": "code",
   "execution_count": 56,
   "id": "adc646ad",
   "metadata": {},
   "outputs": [
    {
     "name": "stdout",
     "output_type": "stream",
     "text": [
      "Prediction of j0: j\n",
      "Prediction of j0_shuffled: j\n"
     ]
    }
   ],
   "source": [
    "print(\"Prediction of j0: \", model.predict(j_CharactersCount),sep=\"\")\n",
    "print(\"Prediction of j0_shuffled: \", model.predict(j_shuffled_CharactersCount),sep=\"\")"
   ]
  },
  {
   "cell_type": "code",
   "execution_count": 57,
   "id": "7233c865",
   "metadata": {},
   "outputs": [
    {
     "name": "stdout",
     "output_type": "stream",
     "text": [
      "Pred Posterior probability of j0:\n"
     ]
    },
    {
     "data": {
      "text/plain": [
       "{'e': -179.94149941677438, 's': -334.1864502545418, 'j': -0.47712125471957734}"
      ]
     },
     "execution_count": 57,
     "metadata": {},
     "output_type": "execute_result"
    }
   ],
   "source": [
    "model.predict(j_CharactersCount)\n",
    "print(\"Pred Posterior probability of j0:\")\n",
    "model.get_log_posterior()"
   ]
  },
  {
   "cell_type": "code",
   "execution_count": 58,
   "id": "0498ba3a",
   "metadata": {},
   "outputs": [
    {
     "name": "stdout",
     "output_type": "stream",
     "text": [
      "Pred posterior probability of j0_shuffled:\n"
     ]
    },
    {
     "data": {
      "text/plain": [
       "{'e': -179.94149941677438, 's': -334.1864502545418, 'j': -0.47712125471957734}"
      ]
     },
     "execution_count": 58,
     "metadata": {},
     "output_type": "execute_result"
    }
   ],
   "source": [
    "model.predict(j_shuffled_CharactersCount)\n",
    "print(\"Pred posterior probability of j0_shuffled:\")\n",
    "model.get_log_posterior()"
   ]
  },
  {
   "cell_type": "code",
   "execution_count": null,
   "id": "e7a79fb8",
   "metadata": {},
   "outputs": [],
   "source": []
  },
  {
   "cell_type": "markdown",
   "id": "96f3a87c",
   "metadata": {},
   "source": [
    "***\n",
    "## Problem 4"
   ]
  },
  {
   "cell_type": "code",
   "execution_count": 71,
   "id": "d279e6c5",
   "metadata": {},
   "outputs": [],
   "source": [
    "import torch\n",
    "import torchvision\n",
    "import torch.nn as nn\n",
    "import torch.optim as optim\n",
    "import matplotlib.pyplot as plt\n",
    "import numpy as np\n",
    "from sklearn.metrics import accuracy_score"
   ]
  },
  {
   "cell_type": "markdown",
   "id": "7dfc5e2d",
   "metadata": {},
   "source": [
    "### 4.2"
   ]
  },
  {
   "cell_type": "code",
   "execution_count": 72,
   "id": "54c733d3",
   "metadata": {},
   "outputs": [],
   "source": [
    "# 4.2\n",
    "train_dataset = torchvision.datasets.MNIST(root='./data', train=True, download=True, transform=torchvision.transforms.ToTensor())\n",
    "test_dataset = torchvision.datasets.MNIST(root='./data', train=False, download=True, transform=torchvision.transforms.ToTensor())"
   ]
  },
  {
   "cell_type": "code",
   "execution_count": 73,
   "id": "9b2aac5a",
   "metadata": {},
   "outputs": [],
   "source": [
    "train_loader = torch.utils.data.DataLoader(train_dataset, batch_size=1, shuffle=True)\n",
    "test_loader = torch.utils.data.DataLoader(test_dataset, batch_size=1, shuffle=True)\n",
    "train_images=[]\n",
    "train_labels=[]\n",
    "\n",
    "for images, labels in train_loader:\n",
    "  image = images.reshape(images.shape[0],-1)\n",
    "  image = image.numpy()\n",
    "  train_images.append(image)\n",
    "  labels = labels.numpy()\n",
    "  train_labels.append(labels)\n",
    "\n",
    "\n",
    "test_images=[]\n",
    "test_labels=[]\n",
    "\n",
    "for images, labels in test_loader:\n",
    "  image = images.reshape(images.shape[0],-1)\n",
    "  image = image.numpy()\n",
    "  test_images.append(image)\n",
    "  labels = labels.numpy()\n",
    "  test_labels.append(labels)\n"
   ]
  },
  {
   "cell_type": "code",
   "execution_count": 74,
   "id": "f231ed8a",
   "metadata": {},
   "outputs": [
    {
     "name": "stdout",
     "output_type": "stream",
     "text": [
      "60000\n"
     ]
    }
   ],
   "source": [
    "import numpy as np\n",
    "test_labels=np.array(test_labels)\n",
    "train_labels=np.array(train_labels)\n",
    "train_images = np.array(train_images)\n",
    "test_images = np.array(test_images)\n",
    "print(len(train_labels))"
   ]
  },
  {
   "cell_type": "code",
   "execution_count": 75,
   "id": "001c98b4",
   "metadata": {},
   "outputs": [
    {
     "name": "stdout",
     "output_type": "stream",
     "text": [
      "60000\n"
     ]
    }
   ],
   "source": [
    "def one_hot(y):\n",
    "  tables = np.zeros((y.shape[0], 10))\n",
    "  for i in range(y.shape[0]):\n",
    "    tables[i][int(y[i][0])] = 1\n",
    "  return tables \n",
    "\n",
    "train_labels=one_hot(train_labels)\n",
    "test_labels=one_hot(test_labels)\n",
    "print(len(train_labels))"
   ]
  },
  {
   "cell_type": "code",
   "execution_count": 76,
   "id": "d4c72bc1",
   "metadata": {},
   "outputs": [],
   "source": [
    "test_images= test_images.reshape(test_images.shape[0], test_images.shape[2])\n",
    "train_images= train_images.reshape(train_images.shape[0], train_images.shape[2])\n"
   ]
  },
  {
   "cell_type": "code",
   "execution_count": null,
   "id": "4d9e905d",
   "metadata": {},
   "outputs": [],
   "source": []
  },
  {
   "cell_type": "code",
   "execution_count": 89,
   "id": "c45854cd",
   "metadata": {},
   "outputs": [
    {
     "name": "stdout",
     "output_type": "stream",
     "text": [
      "Epoch #  0\n",
      "Loss after epoch #  0  :  0.08611287906241896\n",
      "Accuracy after epoch #  0  :  11.08\n",
      "Epoch #  1\n",
      "Loss after epoch #  1  :  0.08140833046351387\n",
      "Accuracy after epoch #  1  :  11.236666666666666\n",
      "Epoch #  2\n",
      "Loss after epoch #  2  :  0.08160383616099867\n",
      "Accuracy after epoch #  2  :  11.236666666666666\n",
      "Epoch #  3\n",
      "Loss after epoch #  3  :  0.08195546964902989\n",
      "Accuracy after epoch #  3  :  11.236666666666666\n",
      "Epoch #  4\n",
      "Loss after epoch #  4  :  0.08207019059450062\n",
      "Accuracy after epoch #  4  :  11.236666666666666\n",
      "Epoch #  5\n",
      "Loss after epoch #  5  :  0.08211340584676585\n",
      "Accuracy after epoch #  5  :  11.236666666666666\n",
      "Epoch #  6\n",
      "Loss after epoch #  6  :  0.08216905532558813\n",
      "Accuracy after epoch #  6  :  11.236666666666666\n",
      "Epoch #  7\n",
      "Loss after epoch #  7  :  0.08217126575656175\n",
      "Accuracy after epoch #  7  :  11.236666666666666\n",
      "Epoch #  8\n",
      "Loss after epoch #  8  :  0.08217846998342676\n",
      "Accuracy after epoch #  8  :  11.236666666666666\n",
      "Epoch #  9\n",
      "Loss after epoch #  9  :  0.08213662578101968\n",
      "Accuracy after epoch #  9  :  11.236666666666666\n",
      "Epoch #  10\n",
      "Loss after epoch #  10  :  0.08218831960018923\n",
      "Accuracy after epoch #  10  :  11.236666666666666\n",
      "Epoch #  11\n",
      "Loss after epoch #  11  :  0.0821553077985439\n",
      "Accuracy after epoch #  11  :  11.236666666666666\n",
      "Epoch #  12\n",
      "Loss after epoch #  12  :  0.08219473340015036\n",
      "Accuracy after epoch #  12  :  11.236666666666666\n",
      "Epoch #  13\n",
      "Loss after epoch #  13  :  0.08213917465035346\n",
      "Accuracy after epoch #  13  :  11.236666666666666\n",
      "Epoch #  14\n",
      "Loss after epoch #  14  :  0.08214240160853789\n",
      "Accuracy after epoch #  14  :  11.236666666666666\n",
      "Epoch #  15\n",
      "Loss after epoch #  15  :  0.08221003939377121\n",
      "Accuracy after epoch #  15  :  11.236666666666666\n",
      "Epoch #  16\n",
      "Loss after epoch #  16  :  0.08211903695354432\n",
      "Accuracy after epoch #  16  :  11.236666666666666\n",
      "Epoch #  17\n",
      "Loss after epoch #  17  :  0.08213872693652953\n",
      "Accuracy after epoch #  17  :  11.236666666666666\n",
      "Epoch #  18\n",
      "Loss after epoch #  18  :  0.08215759423105003\n",
      "Accuracy after epoch #  18  :  11.236666666666666\n",
      "Epoch #  19\n",
      "Loss after epoch #  19  :  0.08212230660114885\n",
      "Accuracy after epoch #  19  :  11.236666666666666\n",
      "Epoch #  20\n",
      "Loss after epoch #  20  :  0.08210356267726628\n",
      "Accuracy after epoch #  20  :  11.236666666666666\n",
      "Epoch #  21\n",
      "Loss after epoch #  21  :  0.08210745497798055\n",
      "Accuracy after epoch #  21  :  11.236666666666666\n",
      "Epoch #  22\n",
      "Loss after epoch #  22  :  0.082086555556186\n",
      "Accuracy after epoch #  22  :  11.236666666666666\n",
      "Epoch #  23\n",
      "Loss after epoch #  23  :  0.08211679038920704\n",
      "Accuracy after epoch #  23  :  11.236666666666666\n",
      "Epoch #  24\n",
      "Loss after epoch #  24  :  0.08210309108859044\n",
      "Accuracy after epoch #  24  :  11.236666666666666\n",
      "Test Accuracy: 11.35 %\n",
      "Test Loss: 88.64999999999999 %\n"
     ]
    },
    {
     "data": {
      "image/png": "[encoded data removed]",
      "text/plain": [
       "<Figure size 800x600 with 1 Axes>"
      ]
     },
     "metadata": {},
     "output_type": "display_data"
    },
    {
     "data": {
      "image/png": "[encoded data removed]",
      "text/plain": [
       "<Figure size 800x600 with 1 Axes>"
      ]
     },
     "metadata": {},
     "output_type": "display_data"
    }
   ],
   "source": [
    "#4.2 and 4.4\n",
    "#zero weights\n",
    "import numpy as np\n",
    "class NeuralNetwork:\n",
    "    def __init__(self, X, y, batch = 1, lr = 1e-2,  epochs = 25):\n",
    "        self.input = X \n",
    "        self.target = y\n",
    "        self.epochs = epochs\n",
    "        self.learn = lr\n",
    "        self.batch = batch\n",
    "        self.loss = []\n",
    "        self.acc = []\n",
    "        self.x = self.input[:self.batch] \n",
    "        self.y = self.target[:self.batch] \n",
    "\n",
    "        self.init_weights()\n",
    "      \n",
    "    def init_weights(self):\n",
    "        self.Weight1=  np.zeros((self.input.shape[1],300))\n",
    "        self.Weight2 = np.zeros((self.Weight1.shape[1],200))\n",
    "        self.Weight3 = np.zeros((self.Weight2.shape[1],self.y.shape[1]))\n",
    "    \n",
    "    def derivativeSigmoid(self,x):\n",
    "        y=(np.exp(-x))\n",
    "        y=y/((np.exp(-x)+1)**2)\n",
    "        return y\n",
    "    \n",
    "    def softmax(self, z):\n",
    "        z = z - np.max(z, axis = 1).reshape(z.shape[0],1)\n",
    "        y=np.exp(z)\n",
    "        y=y/ np.sum(np.exp(z), axis = 1).reshape(z.shape[0],1)\n",
    "        return y\n",
    "    \n",
    "    def Sigmoid(self, x):\n",
    "        y=1/(np.exp(-x)+1) \n",
    "        return y\n",
    "    \n",
    "    def shuffle(self):\n",
    "        idx = [i for i in range(self.input.shape[0])]\n",
    "        np.random.shuffle(idx)\n",
    "        self.input = self.input[idx]\n",
    "        self.target = self.target[idx]\n",
    "        \n",
    "    def feedforward(self):\n",
    "        assert self.x.shape[1] == self.Weight1.shape[0]\n",
    "        self.zi1 = self.x.dot(self.Weight1)\n",
    "        self.ai1 = self.Sigmoid(self.zi1)\n",
    "\n",
    "        assert self.ai1.shape[1] == self.Weight2.shape[0]\n",
    "        self.zi2 = self.ai1.dot(self.Weight2)\n",
    "        self.ai2 = self.Sigmoid(self.zi2)\n",
    "\n",
    "        assert self.ai2.shape[1] == self.Weight3.shape[0]\n",
    "        self.zi3 = self.ai2.dot(self.Weight3)\n",
    "        self.ai3 = self.softmax(self.zi3)\n",
    "        self.error = self.ai3 - self.y\n",
    "\n",
    "    def assignWeight(self,DWeight1, DWeight2,DWeight3):\n",
    "        assert DWeight1.shape == self.Weight1.shape\n",
    "        assert DWeight2.shape == self.Weight2.shape\n",
    "        assert DWeight3.shape == self.Weight3.shape\n",
    "        self.Weight1 = self.Weight1 - self.learn * DWeight1\n",
    "        self.Weight2 = self.Weight2 - self.learn * DWeight2\n",
    "        self.Weight3 = self.Weight3 - self.learn * DWeight3\n",
    "\n",
    "    \n",
    "    def backpropogation(self):\n",
    "        dcost = (1/self.batch)*self.error\n",
    "        \n",
    "        DWeight3 = np.dot(dcost.T,self.ai2).T\n",
    "        mid1=(np.dot((dcost),self.Weight3.T) * self.Sigmoid(self.zi2))\n",
    "        DWeight2 = np.dot(mid1.T,self.ai1).T\n",
    "        mid2=(np.dot((dcost),self.Weight3.T)*self.derivativeSigmoid(self.zi2))\n",
    "        mid3=(np.dot(mid2,self.Weight2.T)*self.derivativeSigmoid(self.zi1)).T\n",
    "        DWeight1 = np.dot(mid3,self.x).T\n",
    "\n",
    "        db3 = np.sum(dcost,axis = 0)\n",
    "        mid4=np.dot((dcost),self.Weight3.T)\n",
    "        db2 = np.sum( mid4 * self.derivativeSigmoid(self.zi2),axis = 0)\n",
    "        mid5=np.dot(mid4*self.derivativeSigmoid(self.zi2),self.Weight2.T)\n",
    "        db1 = np.sum((mid5*self.derivativeSigmoid(self.zi1)),axis = 0)\n",
    "        self.assignWeight(DWeight1,DWeight2,DWeight3)\n",
    "        \n",
    "\n",
    "    def train(self):\n",
    "        for epoch in range(self.epochs):\n",
    "            print(\"Epoch # \", epoch)\n",
    "            l = 0\n",
    "            acc = 0\n",
    "            self.shuffle()\n",
    "            \n",
    "            for batch in range(self.input.shape[0]):\n",
    "                start = batch*self.batch\n",
    "                end = (batch+1)*self.batch\n",
    "                self.x = self.input[start:end]\n",
    "                self.y = self.target[start:end]\n",
    "                self.feedforward()\n",
    "                self.backpropogation()\n",
    "                l+=np.mean(self.error**2)\n",
    "                acc+= np.count_nonzero(np.argmax(self.ai3,axis=1) == np.argmax(self.y,axis=1)) / self.batch\n",
    "            denominator=(self.input.shape[0]//self.batch)    \n",
    "            self.loss.append(l/denominator)\n",
    "            self.acc.append(acc*100/denominator)\n",
    "            print(\"Loss after epoch # \", epoch, \" : \", self.loss[-1])\n",
    "            print(\"Accuracy after epoch # \", epoch, \" : \", self.acc[-1])\n",
    "            \n",
    "    def plot(self):\n",
    "        plt.figure(dpi = 125)\n",
    "        plt.plot(self.loss)\n",
    "        plt.xlabel(\"Epochs\")\n",
    "        plt.ylabel(\"Loss\")\n",
    "    \n",
    "    def test(self,xtest,ytest):\n",
    "        self.x = xtest\n",
    "        self.y = ytest\n",
    "        self.feedforward()\n",
    "        out=(np.argmax(self.ai3,axis=1) == np.argmax(self.y,axis=1))\n",
    "        acc_num=np.count_nonzero(out) \n",
    "        acc = acc_num/ self.x.shape[0]\n",
    "        temp=np.argmax(self.ai3,axis=1) == np.argmax(self.y,axis=1)\n",
    "        temp1=np.count_nonzero(np.argmax(self.ai3,axis=1) == np.argmax(self.y,axis=1))\n",
    "        loss_num=(np.array(temp).size-temp1)\n",
    "        loss = loss_num / self.x.shape[0]\n",
    "        print(\"Test Accuracy:\", 100 * acc, \"%\")\n",
    "        print(\"Test Loss:\", 100 * loss, \"%\")\n",
    "        \n",
    "    def acc_plot(self):\n",
    "        plt.figure(dpi = 125)\n",
    "        plt.plot(self.acc)\n",
    "        plt.xlabel(\"Epochs\")\n",
    "        plt.ylabel(\"Accuracy\")\n",
    "        \n",
    "NeuNet = NeuralNetwork(train_images,train_labels) \n",
    "NeuNet.train()\n",
    "NeuNet.plot()\n",
    "NeuNet.test(test_images,test_labels)\n",
    "NeuNet.acc_plot()"
   ]
  },
  {
   "cell_type": "code",
   "execution_count": 88,
   "id": "97fb9171",
   "metadata": {},
   "outputs": [
    {
     "name": "stdout",
     "output_type": "stream",
     "text": [
      "Epoch #  0\n",
      "Loss after epoch #  0  :  0.016293873953558132\n",
      "Accuracy after epoch #  0  :  88.915\n",
      "Epoch #  1\n",
      "Loss after epoch #  1  :  0.009418979776983484\n",
      "Accuracy after epoch #  1  :  93.68666666666667\n",
      "Epoch #  2\n",
      "Loss after epoch #  2  :  0.00807604952801333\n",
      "Accuracy after epoch #  2  :  94.685\n",
      "Epoch #  3\n",
      "Loss after epoch #  3  :  0.007063029385730871\n",
      "Accuracy after epoch #  3  :  95.34333333333333\n",
      "Epoch #  4\n",
      "Loss after epoch #  4  :  0.006568378924659515\n",
      "Accuracy after epoch #  4  :  95.69166666666666\n",
      "Epoch #  5\n",
      "Loss after epoch #  5  :  0.005934591161121672\n",
      "Accuracy after epoch #  5  :  96.025\n",
      "Epoch #  6\n",
      "Loss after epoch #  6  :  0.005400431844817005\n",
      "Accuracy after epoch #  6  :  96.40333333333334\n",
      "Epoch #  7\n",
      "Loss after epoch #  7  :  0.005053666785819942\n",
      "Accuracy after epoch #  7  :  96.645\n",
      "Epoch #  8\n",
      "Loss after epoch #  8  :  0.004927990170115778\n",
      "Accuracy after epoch #  8  :  96.68666666666667\n",
      "Epoch #  9\n",
      "Loss after epoch #  9  :  0.004488598361461274\n",
      "Accuracy after epoch #  9  :  97.01833333333333\n",
      "Epoch #  10\n",
      "Loss after epoch #  10  :  0.004352788425905188\n",
      "Accuracy after epoch #  10  :  97.12833333333333\n",
      "Epoch #  11\n",
      "Loss after epoch #  11  :  0.003999840667583301\n",
      "Accuracy after epoch #  11  :  97.35333333333334\n",
      "Epoch #  12\n",
      "Loss after epoch #  12  :  0.0037703801318774276\n",
      "Accuracy after epoch #  12  :  97.52333333333333\n",
      "Epoch #  13\n",
      "Loss after epoch #  13  :  0.003757330030925683\n",
      "Accuracy after epoch #  13  :  97.54333333333334\n",
      "Epoch #  14\n",
      "Loss after epoch #  14  :  0.0034217904950584327\n",
      "Accuracy after epoch #  14  :  97.72666666666667\n",
      "Epoch #  15\n",
      "Loss after epoch #  15  :  0.0033340645256405245\n",
      "Accuracy after epoch #  15  :  97.805\n",
      "Epoch #  16\n",
      "Loss after epoch #  16  :  0.003190856754670734\n",
      "Accuracy after epoch #  16  :  97.90833333333333\n",
      "Epoch #  17\n",
      "Loss after epoch #  17  :  0.003117324267301453\n",
      "Accuracy after epoch #  17  :  97.91833333333334\n",
      "Epoch #  18\n",
      "Loss after epoch #  18  :  0.0029504653714238433\n",
      "Accuracy after epoch #  18  :  97.99833333333333\n",
      "Epoch #  19\n",
      "Loss after epoch #  19  :  0.0028984053911163105\n",
      "Accuracy after epoch #  19  :  98.04666666666667\n",
      "Epoch #  20\n",
      "Loss after epoch #  20  :  0.002939136292972878\n",
      "Accuracy after epoch #  20  :  98.05166666666666\n",
      "Epoch #  21\n",
      "Loss after epoch #  21  :  0.002488851381984441\n",
      "Accuracy after epoch #  21  :  98.345\n",
      "Epoch #  22\n",
      "Loss after epoch #  22  :  0.002492743466914023\n",
      "Accuracy after epoch #  22  :  98.35333333333334\n",
      "Epoch #  23\n",
      "Loss after epoch #  23  :  0.002475828697469393\n",
      "Accuracy after epoch #  23  :  98.35833333333333\n",
      "Epoch #  24\n",
      "Loss after epoch #  24  :  0.0024082419583969263\n",
      "Accuracy after epoch #  24  :  98.385\n",
      "Test Accuracy: 95.82000000000001 %\n",
      "Test Loss: 4.18 %\n"
     ]
    },
    {
     "data": {
      "image/png": "[encoded data removed]",
      "text/plain": [
       "<Figure size 800x600 with 1 Axes>"
      ]
     },
     "metadata": {},
     "output_type": "display_data"
    },
    {
     "data": {
      "image/png": "[encoded data removed]",
      "text/plain": [
       "<Figure size 800x600 with 1 Axes>"
      ]
     },
     "metadata": {},
     "output_type": "display_data"
    }
   ],
   "source": [
    "#4.2 and 4.4\n",
    "#random weights(-1,1)\n",
    "import numpy as np\n",
    "class NeuralNetwork:\n",
    "    def __init__(self, X, y, batch = 1, lr = 1e-2,  epochs = 25):\n",
    "        self.inputs = X \n",
    "        self.targets = y\n",
    "        self.epochs = epochs\n",
    "        self.learn = lr\n",
    "        self.batch = batch\n",
    "        self.loss = []\n",
    "        self.acc = []\n",
    "        self.x = self.inputs[:self.batch] \n",
    "        self.y = self.targets[:self.batch] \n",
    "\n",
    "        self.init_weights()\n",
    "      \n",
    "    def init_weights(self):\n",
    "        self.Weight1=  np.random.uniform(low=-1, high=1, size=(self.inputs.shape[1],300))\n",
    "        self.Weight2 = np.random.uniform(low=-1, high=1, size=(self.Weight1.shape[1],200))\n",
    "        self.Weight3 = np.random.uniform(low=-1, high=1, size=(self.Weight2.shape[1],self.y.shape[1]))\n",
    "    \n",
    "    def derivativeSigmoid(self,x):\n",
    "        y=(np.exp(-x))\n",
    "        y=y/((np.exp(-x)+1)**2)\n",
    "        return y\n",
    "    \n",
    "    def softmax(self, z):\n",
    "        z = z - np.max(z, axis = 1).reshape(z.shape[0],1)\n",
    "        y=np.exp(z)\n",
    "        y=y/ np.sum(np.exp(z), axis = 1).reshape(z.shape[0],1)\n",
    "        return y\n",
    "    \n",
    "    def Sigmoid(self, x):\n",
    "        y=1/(np.exp(-x)+1) \n",
    "        return y\n",
    "    \n",
    "    def shuffle(self):\n",
    "        idx = [i for i in range(self.inputs.shape[0])]\n",
    "        np.random.shuffle(idx)\n",
    "        self.inputs = self.inputs[idx]\n",
    "        self.targets = self.targets[idx]\n",
    "        \n",
    "    def feedforward(self):\n",
    "        assert self.x.shape[1] == self.Weight1.shape[0]\n",
    "        self.zi1 = self.x.dot(self.Weight1)\n",
    "        self.ai1 = self.Sigmoid(self.zi1)\n",
    "\n",
    "        assert self.ai1.shape[1] == self.Weight2.shape[0]\n",
    "        self.zi2 = self.ai1.dot(self.Weight2)\n",
    "        self.ai2 = self.Sigmoid(self.zi2)\n",
    "\n",
    "        assert self.ai2.shape[1] == self.Weight3.shape[0]\n",
    "        self.zi3 = self.ai2.dot(self.Weight3)\n",
    "        self.ai3 = self.softmax(self.zi3)\n",
    "        self.error = self.ai3 - self.y\n",
    "\n",
    "    def assignWeight(self,DWeight1, DWeight2,DWeight3):\n",
    "        assert DWeight1.shape == self.Weight1.shape\n",
    "        assert DWeight2.shape == self.Weight2.shape\n",
    "        assert DWeight3.shape == self.Weight3.shape\n",
    "        self.Weight1 = self.Weight1 - self.learn * DWeight1\n",
    "        self.Weight2 = self.Weight2 - self.learn * DWeight2\n",
    "        self.Weight3 = self.Weight3 - self.learn * DWeight3\n",
    "\n",
    "    \n",
    "    def backpropogation(self):\n",
    "        dcost = (1/self.batch)*self.error\n",
    "        \n",
    "        DWeight3 = np.dot(dcost.T,self.ai2).T\n",
    "        mid1=(np.dot((dcost),self.Weight3.T) * self.Sigmoid(self.zi2))\n",
    "        DWeight2 = np.dot(mid1.T,self.ai1).T\n",
    "        mid2=(np.dot((dcost),self.Weight3.T)*self.derivativeSigmoid(self.zi2))\n",
    "        mid3=(np.dot(mid2,self.Weight2.T)*self.derivativeSigmoid(self.zi1)).T\n",
    "        DWeight1 = np.dot(mid3,self.x).T\n",
    "\n",
    "        db3 = np.sum(dcost,axis = 0)\n",
    "        mid4=np.dot((dcost),self.Weight3.T)\n",
    "        db2 = np.sum( mid4 * self.derivativeSigmoid(self.zi2),axis = 0)\n",
    "        mid5=np.dot(mid4*self.derivativeSigmoid(self.zi2),self.Weight2.T)\n",
    "        db1 = np.sum((mid5*self.derivativeSigmoid(self.zi1)),axis = 0)\n",
    "        self.assignWeight(DWeight1,DWeight2,DWeight3)\n",
    "        \n",
    "\n",
    "    def train(self):\n",
    "        for epoch in range(self.epochs):\n",
    "            print(\"Epoch # \", epoch)\n",
    "            l = 0\n",
    "            acc = 0\n",
    "            self.shuffle()\n",
    "            \n",
    "            for batch in range(self.inputs.shape[0]):\n",
    "                start = batch*self.batch\n",
    "                end = (batch+1)*self.batch\n",
    "                self.x = self.inputs[start:end]\n",
    "                self.y = self.targets[start:end]\n",
    "                self.feedforward()\n",
    "                self.backpropogation()\n",
    "                l+=np.mean(self.error**2)\n",
    "                acc+= np.count_nonzero(np.argmax(self.ai3,axis=1) == np.argmax(self.y,axis=1)) / self.batch\n",
    "            denominator=(self.inputs.shape[0]//self.batch)    \n",
    "            self.loss.append(l/denominator)\n",
    "            self.acc.append(acc*100/denominator)\n",
    "            print(\"Loss after epoch # \", epoch, \" : \", self.loss[-1])\n",
    "            print(\"Accuracy after epoch # \", epoch, \" : \", self.acc[-1])\n",
    "            \n",
    "    def plot(self):\n",
    "        plt.figure(dpi = 125)\n",
    "        plt.plot(self.loss)\n",
    "        plt.xlabel(\"Epochs\")\n",
    "        plt.ylabel(\"Loss\")\n",
    "    \n",
    "    def test(self,xtest,ytest):\n",
    "        self.x = xtest\n",
    "        self.y = ytest\n",
    "        self.feedforward()\n",
    "        out=(np.argmax(self.ai3,axis=1) == np.argmax(self.y,axis=1))\n",
    "        acc_num=np.count_nonzero(out) \n",
    "        acc = acc_num/ self.x.shape[0]\n",
    "        temp=np.argmax(self.ai3,axis=1) == np.argmax(self.y,axis=1)\n",
    "        temp1=np.count_nonzero(np.argmax(self.ai3,axis=1) == np.argmax(self.y,axis=1))\n",
    "        loss_num=(np.array(temp).size-temp1)\n",
    "        loss = loss_num / self.x.shape[0]\n",
    "        print(\"Test Accuracy:\", 100 * acc, \"%\")\n",
    "        print(\"Test Loss:\", 100 * loss, \"%\")\n",
    "        \n",
    "    def acc_plot(self):\n",
    "        plt.figure(dpi = 125)\n",
    "        plt.plot(self.acc)\n",
    "        plt.xlabel(\"Epochs\")\n",
    "        plt.ylabel(\"Accuracy\")\n",
    "        \n",
    "NeuNet = NeuralNetwork(train_images,train_labels) \n",
    "NeuNet.train()\n",
    "NeuNet.plot()\n",
    "NeuNet.test(test_images,test_labels)\n",
    "NeuNet.acc_plot()"
   ]
  },
  {
   "cell_type": "code",
   "execution_count": 66,
   "id": "3b77f1d0",
   "metadata": {},
   "outputs": [],
   "source": [
    "4.3\n",
    "from tensorflow.keras.datasets import mnist\n",
    "import numpy as np\n",
    "import tensorflow as tf\n",
    "import numpy as np\n",
    "from tensorflow.keras.utils import to_categorical\n",
    "np.random.seed(7)\n",
    "tf.random.set_seed(7)\n",
    "(train_images, train_labels), (test_images, test_labels) = mnist.load_data()\n",
    "testNN_images = np.reshape(test_images, (-1, 784))\n",
    "trainNN_images = np.reshape(train_images, (-1, 784))\n",
    "\n",
    "testNN_images = testNN_images.astype('float32') / 255\n",
    "trainNN_images = trainNN_images.astype('float32') / 255\n",
    "\n",
    "testNN_labels = to_categorical(test_labels)\n",
    "trainNN_labels = to_categorical(train_labels)\n"
   ]
  },
  {
   "cell_type": "code",
   "execution_count": 67,
   "id": "801d472f",
   "metadata": {},
   "outputs": [
    {
     "name": "stdout",
     "output_type": "stream",
     "text": [
      "Model: \"sequential_8\"\n",
      "_________________________________________________________________\n",
      " Layer (type)                Output Shape              Param #   \n",
      "=================================================================\n",
      " dense_24 (Dense)            (None, 300)               235500    \n",
      "                                                                 \n",
      " dense_25 (Dense)            (None, 200)               60200     \n",
      "                                                                 \n",
      " dense_26 (Dense)            (None, 10)                2010      \n",
      "                                                                 \n",
      "=================================================================\n",
      "Total params: 297,710\n",
      "Trainable params: 297,710\n",
      "Non-trainable params: 0\n",
      "_________________________________________________________________\n"
     ]
    }
   ],
   "source": [
    "from tensorflow.keras.layers import InputLayer\n",
    "from tensorflow.keras.layers import Dense\n",
    "from tensorflow.keras.models import Sequential\n",
    "\n",
    "MLP = Sequential()\n",
    "MLP.add(InputLayer(input_shape=(784, )))\n",
    "MLP.add(Dense(300, activation='sigmoid')) \n",
    "MLP.add(Dense(200, activation='sigmoid')) \n",
    "MLP.add(Dense(10, activation='softmax')) \n",
    "MLP.summary()\n"
   ]
  },
  {
   "cell_type": "code",
   "execution_count": 68,
   "id": "10591fa4",
   "metadata": {},
   "outputs": [
    {
     "name": "stdout",
     "output_type": "stream",
     "text": [
      "Epoch 1/20\n",
      "1875/1875 [==============================] - 2s 1ms/step - loss: 2.1536 - accuracy: 0.3700\n",
      "Epoch 2/20\n",
      "1875/1875 [==============================] - 2s 1ms/step - loss: 1.4980 - accuracy: 0.6844\n",
      "Epoch 3/20\n",
      "1875/1875 [==============================] - 2s 957us/step - loss: 0.8910 - accuracy: 0.7930\n",
      "Epoch 4/20\n",
      "1875/1875 [==============================] - 2s 963us/step - loss: 0.6477 - accuracy: 0.8367\n",
      "Epoch 5/20\n",
      "1875/1875 [==============================] - 2s 944us/step - loss: 0.5336 - accuracy: 0.8592\n",
      "Epoch 6/20\n",
      "1875/1875 [==============================] - 2s 949us/step - loss: 0.4680 - accuracy: 0.8737\n",
      "Epoch 7/20\n",
      "1875/1875 [==============================] - 2s 958us/step - loss: 0.4264 - accuracy: 0.8835\n",
      "Epoch 8/20\n",
      "1875/1875 [==============================] - 2s 976us/step - loss: 0.3978 - accuracy: 0.8898\n",
      "Epoch 9/20\n",
      "1875/1875 [==============================] - 2s 961us/step - loss: 0.3771 - accuracy: 0.8947\n",
      "Epoch 10/20\n",
      "1875/1875 [==============================] - 2s 958us/step - loss: 0.3615 - accuracy: 0.8981\n",
      "Epoch 11/20\n",
      "1875/1875 [==============================] - 2s 963us/step - loss: 0.3488 - accuracy: 0.9010\n",
      "Epoch 12/20\n",
      "1875/1875 [==============================] - 2s 960us/step - loss: 0.3385 - accuracy: 0.9037\n",
      "Epoch 13/20\n",
      "1875/1875 [==============================] - 2s 967us/step - loss: 0.3297 - accuracy: 0.9056\n",
      "Epoch 14/20\n",
      "1875/1875 [==============================] - 2s 989us/step - loss: 0.3224 - accuracy: 0.9075\n",
      "Epoch 15/20\n",
      "1875/1875 [==============================] - 2s 990us/step - loss: 0.3156 - accuracy: 0.9088\n",
      "Epoch 16/20\n",
      "1875/1875 [==============================] - 2s 984us/step - loss: 0.3098 - accuracy: 0.9105\n",
      "Epoch 17/20\n",
      "1875/1875 [==============================] - 2s 992us/step - loss: 0.3044 - accuracy: 0.9116\n",
      "Epoch 18/20\n",
      "1875/1875 [==============================] - 2s 1ms/step - loss: 0.2994 - accuracy: 0.9139\n",
      "Epoch 19/20\n",
      "1875/1875 [==============================] - 2s 971us/step - loss: 0.2950 - accuracy: 0.9148\n",
      "Epoch 20/20\n",
      "1875/1875 [==============================] - 2s 984us/step - loss: 0.2908 - accuracy: 0.9157\n"
     ]
    }
   ],
   "source": [
    "MLP.compile(loss='categorical_crossentropy',\n",
    "            optimizer='SGD',\n",
    "            metrics=['accuracy'])\n",
    "history = MLP.fit(trainNN_images, trainNN_labels, \n",
    "        epochs=20, batch_size=32)"
   ]
  },
  {
   "cell_type": "code",
   "execution_count": 69,
   "id": "bc29852d",
   "metadata": {},
   "outputs": [
    {
     "data": {
      "image/png": "[encoded data removed]",
      "text/plain": [
       "<Figure size 640x480 with 1 Axes>"
      ]
     },
     "metadata": {},
     "output_type": "display_data"
    },
    {
     "data": {
      "image/png": "[encoded data removed]",
      "text/plain": [
       "<Figure size 640x480 with 1 Axes>"
      ]
     },
     "metadata": {},
     "output_type": "display_data"
    },
    {
     "name": "stdout",
     "output_type": "stream",
     "text": [
      "Test loss: 0.27961963415145874\n",
      "Test accuracy: 0.9200000166893005\n"
     ]
    }
   ],
   "source": [
    "plt.title('Cross Entropy Loss')\n",
    "plt.plot(history.history['loss'], color='blue', label='train')\n",
    "plt.show()\n",
    "plt.title('Accuracy')\n",
    "plt.plot(history.history['accuracy'], color='blue', label='train')\n",
    "plt.show()\n",
    "test_loss, test_accuracy = MLP.evaluate(testNN_images, testNN_labels,\n",
    "                                   batch_size=64,\n",
    "                                   verbose=0)\n",
    "print(\"Test loss:\", test_loss)\n",
    "print(\"Test accuracy:\", test_accuracy)"
   ]
  },
  {
   "cell_type": "code",
   "execution_count": null,
   "id": "8b53b77e",
   "metadata": {},
   "outputs": [],
   "source": []
  }
 ],
 "metadata": {
  "kernelspec": {
   "display_name": "Python 3 (ipykernel)",
   "language": "python",
   "name": "python3"
  },
  "language_info": {
   "codemirror_mode": {
    "name": "ipython",
    "version": 3
   },
   "file_extension": ".py",
   "mimetype": "text/x-python",
   "name": "python",
   "nbconvert_exporter": "python",
   "pygments_lexer": "ipython3",
   "version": "3.11.4"
  }
 },
 "nbformat": 4,
 "nbformat_minor": 5
}
